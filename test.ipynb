{
 "cells": [
  {
   "cell_type": "code",
   "execution_count": null,
   "metadata": {
    "vscode": {
     "languageId": "dotnet-interactive.fsharp"
    }
   },
   "outputs": [],
   "source": [
    "%%shell\n",
    "\n",
    "wget -q https://packages.microsoft.com/config/ubuntu/16.04/packages-microsoft-prod.deb\n",
    "dpkg -i packages-microsoft-prod.deb\n",
    "\n",
    "apt-get update\n",
    "apt-get install dotnet-sdk-3.1\n",
    "\n",
    "dotnet tool install -g --add-source \"https://pkgs.dev.azure.com/dnceng/public/_packaging/dotnet-tools/nuget/v3/index.json\" Microsoft.dotnet-interactive --version 1.0.155302\n",
    "\n",
    "export PATH=$PATH:$HOME/.dotnet/tools\n",
    "dotnet interactive jupyter install\n",
    "\n",
    "echo \"{\n",
    "  \\\"argv\\\": [\n",
    "    \\\"$HOME/.dotnet/tools/dotnet-interactive\\\",\n",
    "    \\\"jupyter\\\",\n",
    "    \\\"--default-kernel\\\",\n",
    "    \\\"fsharp\\\",\n",
    "    \\\"--http-port-range\\\",\n",
    "    \\\"1000-3000\\\",\n",
    "    \\\"{connection_file}\\\"\n",
    "  ],\n",
    "  \\\"display_name\\\": \\\".NET (F#)\\\",\n",
    "  \\\"language\\\": \\\"F#\\\",\n",
    "  \\\"metadata\\\": {\n",
    "    \\\"vscode\\\": {\n",
    "      \\\"extension_id\\\": \\\"ms-dotnettools.dotnet-interactive-vscode\\\",\n",
    "      \\\"kernel_id\\\": \\\"dotnet-interactive\\\"\n",
    "    }\n",
    "  }\n",
    "}\" > /root/.local/share/jupyter/kernels/.net-fsharp/kernel.json"
   ]
  },
  {
   "cell_type": "code",
   "execution_count": null,
   "metadata": {
    "dotnet_interactive": {
     "language": "fsharp"
    },
    "vscode": {
     "languageId": "dotnet-interactive.fsharp"
    }
   },
   "outputs": [],
   "source": [
    "type Cell = \n",
    "    | Covered of Cell\n",
    "    | Number\n",
    "    | Bomb"
   ]
  },
  {
   "cell_type": "code",
   "execution_count": null,
   "metadata": {
    "dotnet_interactive": {
     "language": "fsharp"
    },
    "vscode": {
     "languageId": "dotnet-interactive.fsharp"
    }
   },
   "outputs": [],
   "source": [
    "let char = function\n",
    "    | Covered _ -> '.'\n",
    "    | Number -> '1'\n",
    "    | Bomb -> '*'\n",
    "    | Hello -> '0'"
   ]
  },
  {
   "cell_type": "code",
   "execution_count": null,
   "metadata": {
    "dotnet_interactive": {
     "language": "fsharp"
    },
    "vscode": {
     "languageId": "dotnet-interactive.fsharp"
    }
   },
   "outputs": [
    {
     "data": {
      "text/html": [
       "<div class=\"dni-plaintext\">*</div>"
      ]
     },
     "metadata": {},
     "output_type": "display_data"
    }
   ],
   "source": [
    "Bomb |> char"
   ]
  },
  {
   "cell_type": "code",
   "execution_count": null,
   "metadata": {
    "vscode": {
     "languageId": "dotnet-interactive.fsharp"
    }
   },
   "outputs": [],
   "source": []
  },
  {
   "cell_type": "code",
   "execution_count": null,
   "metadata": {
    "vscode": {
     "languageId": "dotnet-interactive.fsharp"
    }
   },
   "outputs": [],
   "source": []
  }
 ],
 "metadata": {
  "kernelspec": {
   "display_name": ".NET (F#)",
   "language": "F#",
   "name": ".net-fsharp"
  },
  "language_info": {
   "name": "F#"
  }
 },
 "nbformat": 4,
 "nbformat_minor": 2
}
